{
 "cells": [
  {
   "cell_type": "code",
   "execution_count": 1,
   "metadata": {},
   "outputs": [],
   "source": [
    "import pandas as pd\n",
    "from datetime import datetime\n",
    "import os\n",
    "\n",
    "\n",
    "def parse(x):\n",
    "    return datetime.strptime(x, '%Y %m %d %H')\n",
    "\n",
    "\n",
    "def data_preprocess(csv):\n",
    "    dataset = pd.read_csv(csv, parse_dates=[['year','month',\n",
    "                                'day', 'hour']], index_col=0, date_parser=parse)\n",
    "    dataset.drop(['No', 'season'], axis=1, inplace=True)\n",
    "    dataset.columns = ['pm_25', 'dew', 'humi', 'pres', 'temp',\n",
    "                       'wind_dir', 'wind_spd', 'precipitation', 'lprec']\n",
    "    dataset.index.name = 'date'\n",
    "    # remove rows containing NAs\n",
    "    dataset.dropna(inplace=True)\n",
    "    dataset.reset_index(inplace=True)\n",
    "    return dataset\n",
    "\n",
    "\n",
    "def main():\n",
    "    appended_data = []\n",
    "    for csv in os.listdir('Data/'):\n",
    "        dataset = data_preprocess('Data/'+ csv)\n",
    "        processed_path = os.path.join('processedData/', 'processed_'+str(csv))\n",
    "        dataset.to_csv(processed_path, index=False)\n",
    "        dataset['city']= csv[:-6]\n",
    "        dataset.set_index(['city','date'], inplace=True, drop=False)\n",
    "        appended_data.append(dataset.pm_25)\n",
    "    dataset_allcities = pd.concat(appended_data, axis=0).reset_index()\n",
    "    dataset_allcities.to_csv(os.path.join('processedData/', 'processed_allcities.csv'), index=False)\n"
   ]
  },
  {
   "cell_type": "code",
   "execution_count": 2,
   "metadata": {},
   "outputs": [],
   "source": [
    "\n",
    "if __name__ == '__main__':\n",
    "    main()\n"
   ]
  },
  {
   "cell_type": "code",
   "execution_count": null,
   "metadata": {},
   "outputs": [],
   "source": []
  },
  {
   "cell_type": "code",
   "execution_count": null,
   "metadata": {},
   "outputs": [],
   "source": [
    "\n"
   ]
  },
  {
   "cell_type": "code",
   "execution_count": null,
   "metadata": {},
   "outputs": [],
   "source": []
  },
  {
   "cell_type": "code",
   "execution_count": null,
   "metadata": {},
   "outputs": [],
   "source": []
  },
  {
   "cell_type": "code",
   "execution_count": null,
   "metadata": {},
   "outputs": [],
   "source": []
  }
 ],
 "metadata": {
  "kernelspec": {
   "display_name": "Python 3",
   "language": "python",
   "name": "python3"
  },
  "language_info": {
   "codemirror_mode": {
    "name": "ipython",
    "version": 3
   },
   "file_extension": ".py",
   "mimetype": "text/x-python",
   "name": "python",
   "nbconvert_exporter": "python",
   "pygments_lexer": "ipython3",
   "version": "3.6.4"
  }
 },
 "nbformat": 4,
 "nbformat_minor": 2
}
